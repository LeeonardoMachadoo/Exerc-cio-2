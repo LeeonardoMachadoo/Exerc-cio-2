{
 "cells": [
  {
   "cell_type": "markdown",
   "metadata": {
    "id": "njUvbhQmC8-t"
   },
   "source": [
    "## Exercício 1: Vestibular\n",
    "\n",
    "Considere que a os dados gerados na célula abaixo contêm o número de acertos de 100 alunos em um vestibular para um curso de exatas, divididas pelos respectivos assuntos. Considere que cada assunto possui um número de questões conforme a tabela abaixo:\n",
    "\n",
    "| assunto | número de questões |\n",
    "|:---:|:---:|\n",
    "| Matemática | 24 |\n",
    "| Português | 18 |\n",
    "| Geografia | 8 |\n",
    "| Inglês | 8 |\n",
    "| História | 8 |\n",
    "| Física | 12 |\n",
    "| Química | 12 |\n",
    "\n",
    "Usando os comandos de operações com DataFrames que você aprendeu na Aula 03, calcule:\n",
    "\n",
    "1. (operações com escalar) Calcule o percentual de acerto dos alunos por assunto.  \n",
    "2. (operações entre *DataFrames) Calcule o total de acertos de cada aluno.  \n",
    "3. Calcule o porcentual geral de cada aluno.  \n",
    "4. Suponha que a nota de corte para a segunda fase seja 45. Quantos alunos tiveram nota maior que 45?  "
   ]
  },
  {
   "cell_type": "code",
   "execution_count": 24,
   "metadata": {
    "id": "Ll6TadxCC8-y"
   },
   "outputs": [],
   "source": [
    "import pandas as pd\n",
    "import numpy as np\n",
    "\n",
    "np.random.seed(42)\n",
    "df_mat = pd.DataFrame(np.random.randint(24, size=(100, 1)), columns=['Qt_acertos'])\n",
    "\n",
    "df_por = pd.DataFrame(np.random.randint(18, size=(100, 1)), columns=['Qt_acertos'])\n",
    "\n",
    "df_geo = pd.DataFrame(np.random.randint(8, size=(100, 1)), columns=['Qt_acertos'])\n",
    "\n",
    "df_ing = pd.DataFrame(np.random.randint(8, size=(100, 1)), columns=['Qt_acertos'])\n",
    "\n",
    "df_his = pd.DataFrame(np.random.randint(8, size=(100, 1)), columns=['Qt_acertos'])\n",
    "\n",
    "df_fis = pd.DataFrame(np.random.randint(12, size=(100, 1)), columns=['Qt_acertos'])\n",
    "\n",
    "df_qui = pd.DataFrame(np.random.randint(12, size=(100, 1)), columns=['Qt_acertos'])"
   ]
  },
  {
   "cell_type": "code",
   "execution_count": 25,
   "metadata": {
    "id": "JVmLXiC2C8-0"
   },
   "outputs": [],
   "source": [
    "\n",
    "num_questoes = {\n",
    "    'Matemática': 24,\n",
    "    'Português': 18,\n",
    "    'Geografia': 8,\n",
    "    'Inglês': 8,\n",
    "    'História': 8,\n",
    "    'Física': 12,\n",
    "    'Química': 12\n",
    "}\n",
    "\n",
    "\n",
    "dfs = {\n",
    "    'Matemática': df_mat,\n",
    "    'Português': df_por,\n",
    "    'Geografia': df_geo,\n",
    "    'Inglês': df_ing,\n",
    "    'História': df_his,\n",
    "    'Física': df_fis,\n",
    "    'Química': df_qui\n",
    "}\n",
    "\n",
    "for assunto, total in num_questoes.items():\n",
    "    dfs[assunto]['Percentual de Acertos'] = (dfs[assunto]['Qt_acertos'] / total) * 100\n",
    "\n"
   ]
  },
  {
   "cell_type": "code",
   "execution_count": 26,
   "metadata": {
    "id": "JbTwCyNHC8-1"
   },
   "outputs": [],
   "source": [
    "# 2) Seu código aqui\n",
    "\n",
    "df_total = pd.DataFrame()\n",
    "\n",
    "\n",
    "for df in dfs.values():\n",
    "    if df_total.empty:\n",
    "        df_total = df.copy()\n",
    "    else:\n",
    "        df_total['Qt_acertos'] += df['Qt_acertos']\n"
   ]
  },
  {
   "cell_type": "code",
   "execution_count": 27,
   "metadata": {
    "id": "c2L8dJkVC8-3"
   },
   "outputs": [],
   "source": [
    "# 3) Seu código aqui\n",
    "\n",
    "total_questoes = sum(num_questoes.values())\n",
    "\n",
    "df_total['Percentual Geral'] = (df_total['Qt_acertos'] / total_questoes) * 100\n",
    "\n"
   ]
  },
  {
   "cell_type": "code",
   "execution_count": 28,
   "metadata": {
    "id": "PZTZ7DFzC8-3"
   },
   "outputs": [
    {
     "name": "stdout",
     "output_type": "stream",
     "text": [
      "O número de alunos com nota maior que 45 é 31.\n"
     ]
    }
   ],
   "source": [
    "# 4) Seu código aqui\n",
    "\n",
    "alunos_maior_45 = df_total[df_total['Qt_acertos'] > 45]\n",
    "\n",
    "\n",
    "num_alunos_maior_45 = len(alunos_maior_45)\n",
    "\n",
    "print(f'O número de alunos com nota maior que 45 é {num_alunos_maior_45}.')\n"
   ]
  },
  {
   "cell_type": "markdown",
   "metadata": {
    "id": "Hlfl75XXC8-4"
   },
   "source": [
    "## 2) Vestibular II\n",
    "\n",
    "Ainda sobre o mesmo banco de dados:\n",
    "\n",
    "1. Neste vestibular, quem 'zera' em matemática, física ou química está desqualificado. Monte um novo *DataFrame* com os alunos desqualificados por este critério.\n",
    "2. Quantos são esses alunos?\n",
    "3. Qual a média desses alunos em história e geografia?\n",
    "4. Monte um *DataFrame* com os alunos que passaram para a segunda fase. Repare que estes alunos não podem ter sido desqualificados."
   ]
  },
  {
   "cell_type": "code",
   "execution_count": 30,
   "metadata": {
    "id": "hPaMGXvJC8-4"
   },
   "outputs": [
    {
     "name": "stdout",
     "output_type": "stream",
     "text": [
      "O número de alunos desqualificados é 23.\n",
      "A média dos alunos desqualificados em História é 3.4347826086956523.\n",
      "A média dos alunos desqualificados em Geografia é 3.217391304347826.\n",
      "    Qt_acertos  Percentual de Acertos  Percentual Geral\n",
      "0           35              25.000000         38.888889\n",
      "1           48              79.166667         53.333333\n",
      "2           50              58.333333         55.555556\n",
      "4           30              29.166667         33.333333\n",
      "5           50              83.333333         55.555556\n",
      "..         ...                    ...               ...\n",
      "93          56              50.000000         62.222222\n",
      "95          34              25.000000         37.777778\n",
      "96          27              33.333333         30.000000\n",
      "97          40              95.833333         44.444444\n",
      "99          42              45.833333         46.666667\n",
      "\n",
      "[77 rows x 3 columns]\n"
     ]
    }
   ],
   "source": [
    "\n",
    "df_desqualificados = df_total[(df_mat['Qt_acertos'] == 0) | (df_fis['Qt_acertos'] == 0) | (df_qui['Qt_acertos'] == 0)]\n",
    "\n",
    "\n",
    "num_desqualificados = len(df_desqualificados)\n",
    "print(f'O número de alunos desqualificados é {num_desqualificados}.')\n",
    "\n",
    "\n",
    "media_historia = df_his.loc[df_desqualificados.index, 'Qt_acertos'].mean()\n",
    "media_geografia = df_geo.loc[df_desqualificados.index, 'Qt_acertos'].mean()\n",
    "print(f'A média dos alunos desqualificados em História é {media_historia}.')\n",
    "print(f'A média dos alunos desqualificados em Geografia é {media_geografia}.')\n",
    "\n",
    "\n",
    "df_segunda_fase = df_total.drop(df_desqualificados.index)\n",
    "print(df_segunda_fase)\n"
   ]
  },
  {
   "cell_type": "markdown",
   "metadata": {
    "id": "EGBUWpAHC8-5"
   },
   "source": [
    "## 3) Vacinações no Acre\n",
    "Vamos trabalhar agora com a base de vacinações no Acre. Para facilitar a sua vida, copiamos o link do arquivo na célula abaixo.\n",
    "\n",
    "1. Quantas vacinas estão registradas nessa base?  \n",
    "2. Quantos pacientes foram vacinados? (considere um paciente para cada valor único de ```paciente_id```)  \n",
    "3. Quantos pacientes únicos tomaram a primeira dose? OBS: Há um caractere especial neste campo. Receba os valores do campo com o método ```.unique()```.   \n",
    "4. Quantos pacientes com menos de 18 anos foram vacinados?  \n",
    "5. Quantos estabelecimentos aplicaram vacina no Acre?\n",
    "\n",
    "\n",
    "**OBS:** O portal do DATASUS pode apresentar instabilidades, retornando um erro na segunda célula abaixo. Por este motivo está disponível uma base estática, que se for baixada para o seu *working directory* pode ser lida com este comando: ```df = pd.read_csv('registros de vacinacao covid ACRE.csv', sep=';')```.\n",
    "\n",
    "**OBS2:** Para saber qual é o seu working directory, rode no jupyter: ```!pwd```."
   ]
  },
  {
   "cell_type": "code",
   "execution_count": 51,
   "metadata": {
    "id": "ET4r139hC8-5"
   },
   "outputs": [],
   "source": [
    "arquivo = 'https://s3.sa-east-1.amazonaws.com/ckan.saude.gov.br/SIPNI/COVID/uf/uf%3DAC/part-00000-529d960e-12cc-42de-8e73-3703c70017bd.c000.csv'"
   ]
  },
  {
   "cell_type": "code",
   "execution_count": 52,
   "metadata": {
    "id": "SC9YMWLSC8-6"
   },
   "outputs": [],
   "source": [
    "# 1) Sua solução aqui\n",
    "\n",
    "import pandas as pd\n",
    "\n",
    "df = pd.read_csv(arquivo, sep=';')"
   ]
  },
  {
   "cell_type": "code",
   "execution_count": 54,
   "metadata": {
    "id": "SC9YMWLSC8-6"
   },
   "outputs": [
    {
     "data": {
      "text/html": [
       "<div>\n",
       "<style scoped>\n",
       "    .dataframe tbody tr th:only-of-type {\n",
       "        vertical-align: middle;\n",
       "    }\n",
       "\n",
       "    .dataframe tbody tr th {\n",
       "        vertical-align: top;\n",
       "    }\n",
       "\n",
       "    .dataframe thead th {\n",
       "        text-align: right;\n",
       "    }\n",
       "</style>\n",
       "<table border=\"1\" class=\"dataframe\">\n",
       "  <thead>\n",
       "    <tr style=\"text-align: right;\">\n",
       "      <th></th>\n",
       "      <th>document_id</th>\n",
       "      <th>paciente_id</th>\n",
       "      <th>paciente_idade</th>\n",
       "      <th>paciente_dataNascimento</th>\n",
       "      <th>paciente_enumSexoBiologico</th>\n",
       "      <th>paciente_racaCor_codigo</th>\n",
       "      <th>paciente_racaCor_valor</th>\n",
       "      <th>paciente_endereco_coIbgeMunicipio</th>\n",
       "      <th>paciente_endereco_coPais</th>\n",
       "      <th>paciente_endereco_nmMunicipio</th>\n",
       "      <th>...</th>\n",
       "      <th>vacina_categoria_codigo</th>\n",
       "      <th>vacina_categoria_nome</th>\n",
       "      <th>vacina_lote</th>\n",
       "      <th>vacina_fabricante_nome</th>\n",
       "      <th>vacina_fabricante_referencia</th>\n",
       "      <th>vacina_dataAplicacao</th>\n",
       "      <th>vacina_descricao_dose</th>\n",
       "      <th>vacina_codigo</th>\n",
       "      <th>vacina_nome</th>\n",
       "      <th>sistema_origem</th>\n",
       "    </tr>\n",
       "  </thead>\n",
       "  <tbody>\n",
       "    <tr>\n",
       "      <th>0</th>\n",
       "      <td>14c14dac-c700-44dd-a77c-f7f2bcab2f12-i0b0</td>\n",
       "      <td>7cb915f7464c8ea74462e631696dd7be98415cc74c9e8c...</td>\n",
       "      <td>25</td>\n",
       "      <td>1997-06-30</td>\n",
       "      <td>M</td>\n",
       "      <td>99</td>\n",
       "      <td>SEM INFORMACAO</td>\n",
       "      <td>120030.0</td>\n",
       "      <td>10.0</td>\n",
       "      <td>FEIJO</td>\n",
       "      <td>...</td>\n",
       "      <td>2.0</td>\n",
       "      <td>Faixa Etária</td>\n",
       "      <td>FN9509</td>\n",
       "      <td>PFIZER</td>\n",
       "      <td>28290</td>\n",
       "      <td>2022-08-08</td>\n",
       "      <td>Reforço</td>\n",
       "      <td>87</td>\n",
       "      <td>COVID-19 PFIZER - COMIRNATY</td>\n",
       "      <td>Novo PNI</td>\n",
       "    </tr>\n",
       "    <tr>\n",
       "      <th>1</th>\n",
       "      <td>1bfbbc41-1650-4427-853a-0807e94cfb29-i0b0</td>\n",
       "      <td>1d335755b19aa295af0bcfa948f46837bff30bda1f37f5...</td>\n",
       "      <td>58</td>\n",
       "      <td>1964-04-13</td>\n",
       "      <td>F</td>\n",
       "      <td>3</td>\n",
       "      <td>PARDA</td>\n",
       "      <td>120040.0</td>\n",
       "      <td>10.0</td>\n",
       "      <td>RIO BRANCO</td>\n",
       "      <td>...</td>\n",
       "      <td>1.0</td>\n",
       "      <td>Comorbidades</td>\n",
       "      <td>212J21A</td>\n",
       "      <td>JANSSEN</td>\n",
       "      <td>30587</td>\n",
       "      <td>2022-06-07</td>\n",
       "      <td>2º Reforço</td>\n",
       "      <td>88</td>\n",
       "      <td>COVID-19 JANSSEN - Ad26.COV2.S</td>\n",
       "      <td>Novo PNI</td>\n",
       "    </tr>\n",
       "    <tr>\n",
       "      <th>2</th>\n",
       "      <td>c4fe1c06-9d03-4fb3-9f09-d03ae04172ed-i0b0</td>\n",
       "      <td>b04dc8dc9a414410e7defb82eedd78ffeba9326ffe2a5e...</td>\n",
       "      <td>14</td>\n",
       "      <td>2007-04-05</td>\n",
       "      <td>F</td>\n",
       "      <td>99</td>\n",
       "      <td>SEM INFORMACAO</td>\n",
       "      <td>120040.0</td>\n",
       "      <td>10.0</td>\n",
       "      <td>RIO BRANCO</td>\n",
       "      <td>...</td>\n",
       "      <td>2.0</td>\n",
       "      <td>Faixa Etária</td>\n",
       "      <td>FA9096</td>\n",
       "      <td>PFIZER</td>\n",
       "      <td>Organization/00394544000851</td>\n",
       "      <td>2021-08-11</td>\n",
       "      <td>1ª Dose</td>\n",
       "      <td>87</td>\n",
       "      <td>COVID-19 PFIZER - COMIRNATY</td>\n",
       "      <td>Novo PNI</td>\n",
       "    </tr>\n",
       "    <tr>\n",
       "      <th>3</th>\n",
       "      <td>1c30b619-afb7-4dbe-9376-d27be046f3b5-i0b0</td>\n",
       "      <td>b3bce1cb621fe53c603884438503438e6d373025aa3404...</td>\n",
       "      <td>30</td>\n",
       "      <td>1990-09-27</td>\n",
       "      <td>F</td>\n",
       "      <td>3</td>\n",
       "      <td>PARDA</td>\n",
       "      <td>120020.0</td>\n",
       "      <td>10.0</td>\n",
       "      <td>CRUZEIRO DO SUL</td>\n",
       "      <td>...</td>\n",
       "      <td>2.0</td>\n",
       "      <td>Faixa Etária</td>\n",
       "      <td>FA9096</td>\n",
       "      <td>PFIZER</td>\n",
       "      <td>Organization/00394544000851</td>\n",
       "      <td>2021-07-28</td>\n",
       "      <td>1ª Dose</td>\n",
       "      <td>87</td>\n",
       "      <td>COVID-19 PFIZER - COMIRNATY</td>\n",
       "      <td>Novo PNI</td>\n",
       "    </tr>\n",
       "    <tr>\n",
       "      <th>4</th>\n",
       "      <td>ea959b1f-c617-41f3-9114-3b3d8e6efb74-i0b0</td>\n",
       "      <td>c71ae47ddab9e6bf4268c9d247781644a51f606208aa2f...</td>\n",
       "      <td>17</td>\n",
       "      <td>2003-12-31</td>\n",
       "      <td>F</td>\n",
       "      <td>4</td>\n",
       "      <td>AMARELA</td>\n",
       "      <td>120040.0</td>\n",
       "      <td>10.0</td>\n",
       "      <td>RIO BRANCO</td>\n",
       "      <td>...</td>\n",
       "      <td>2.0</td>\n",
       "      <td>Faixa Etária</td>\n",
       "      <td>FD7208</td>\n",
       "      <td>PFIZER</td>\n",
       "      <td>Organization/00394544000851</td>\n",
       "      <td>2021-09-11</td>\n",
       "      <td>1ª Dose</td>\n",
       "      <td>87</td>\n",
       "      <td>COVID-19 PFIZER - COMIRNATY</td>\n",
       "      <td>Novo PNI</td>\n",
       "    </tr>\n",
       "  </tbody>\n",
       "</table>\n",
       "<p>5 rows × 32 columns</p>\n",
       "</div>"
      ],
      "text/plain": [
       "                                 document_id  \\\n",
       "0  14c14dac-c700-44dd-a77c-f7f2bcab2f12-i0b0   \n",
       "1  1bfbbc41-1650-4427-853a-0807e94cfb29-i0b0   \n",
       "2  c4fe1c06-9d03-4fb3-9f09-d03ae04172ed-i0b0   \n",
       "3  1c30b619-afb7-4dbe-9376-d27be046f3b5-i0b0   \n",
       "4  ea959b1f-c617-41f3-9114-3b3d8e6efb74-i0b0   \n",
       "\n",
       "                                         paciente_id  paciente_idade  \\\n",
       "0  7cb915f7464c8ea74462e631696dd7be98415cc74c9e8c...              25   \n",
       "1  1d335755b19aa295af0bcfa948f46837bff30bda1f37f5...              58   \n",
       "2  b04dc8dc9a414410e7defb82eedd78ffeba9326ffe2a5e...              14   \n",
       "3  b3bce1cb621fe53c603884438503438e6d373025aa3404...              30   \n",
       "4  c71ae47ddab9e6bf4268c9d247781644a51f606208aa2f...              17   \n",
       "\n",
       "  paciente_dataNascimento paciente_enumSexoBiologico  paciente_racaCor_codigo  \\\n",
       "0              1997-06-30                          M                       99   \n",
       "1              1964-04-13                          F                        3   \n",
       "2              2007-04-05                          F                       99   \n",
       "3              1990-09-27                          F                        3   \n",
       "4              2003-12-31                          F                        4   \n",
       "\n",
       "  paciente_racaCor_valor  paciente_endereco_coIbgeMunicipio  \\\n",
       "0         SEM INFORMACAO                           120030.0   \n",
       "1                  PARDA                           120040.0   \n",
       "2         SEM INFORMACAO                           120040.0   \n",
       "3                  PARDA                           120020.0   \n",
       "4                AMARELA                           120040.0   \n",
       "\n",
       "   paciente_endereco_coPais paciente_endereco_nmMunicipio  ...  \\\n",
       "0                      10.0                         FEIJO  ...   \n",
       "1                      10.0                    RIO BRANCO  ...   \n",
       "2                      10.0                    RIO BRANCO  ...   \n",
       "3                      10.0               CRUZEIRO DO SUL  ...   \n",
       "4                      10.0                    RIO BRANCO  ...   \n",
       "\n",
       "  vacina_categoria_codigo vacina_categoria_nome  vacina_lote  \\\n",
       "0                     2.0          Faixa Etária       FN9509   \n",
       "1                     1.0          Comorbidades      212J21A   \n",
       "2                     2.0          Faixa Etária       FA9096   \n",
       "3                     2.0          Faixa Etária       FA9096   \n",
       "4                     2.0          Faixa Etária       FD7208   \n",
       "\n",
       "  vacina_fabricante_nome  vacina_fabricante_referencia vacina_dataAplicacao  \\\n",
       "0                 PFIZER                         28290           2022-08-08   \n",
       "1                JANSSEN                         30587           2022-06-07   \n",
       "2                 PFIZER   Organization/00394544000851           2021-08-11   \n",
       "3                 PFIZER   Organization/00394544000851           2021-07-28   \n",
       "4                 PFIZER   Organization/00394544000851           2021-09-11   \n",
       "\n",
       "  vacina_descricao_dose  vacina_codigo                     vacina_nome  \\\n",
       "0               Reforço             87     COVID-19 PFIZER - COMIRNATY   \n",
       "1            2º Reforço             88  COVID-19 JANSSEN - Ad26.COV2.S   \n",
       "2               1ª Dose             87     COVID-19 PFIZER - COMIRNATY   \n",
       "3               1ª Dose             87     COVID-19 PFIZER - COMIRNATY   \n",
       "4               1ª Dose             87     COVID-19 PFIZER - COMIRNATY   \n",
       "\n",
       "  sistema_origem  \n",
       "0       Novo PNI  \n",
       "1       Novo PNI  \n",
       "2       Novo PNI  \n",
       "3       Novo PNI  \n",
       "4       Novo PNI  \n",
       "\n",
       "[5 rows x 32 columns]"
      ]
     },
     "execution_count": 54,
     "metadata": {},
     "output_type": "execute_result"
    }
   ],
   "source": [
    "df.head()"
   ]
  },
  {
   "cell_type": "code",
   "execution_count": 55,
   "metadata": {
    "id": "PMztY1RlC8-7"
   },
   "outputs": [
    {
     "name": "stdout",
     "output_type": "stream",
     "text": [
      "O número de vacinas registradas nessa base é 385248.\n",
      "O número de pacientes vacinados é 315209.\n",
      "O número de pacientes únicos que tomaram a primeira dose é 143104.\n",
      "O número de pacientes com menos de 18 anos que foram vacinados é 67287.\n",
      "O número de estabelecimentos que aplicaram vacina no Acre é 217.\n"
     ]
    }
   ],
   "source": [
    "# 2)\n",
    "\n",
    "num_vacinas = len(df)\n",
    "print(f'O número de vacinas registradas nessa base é {num_vacinas}.')\n",
    "\n",
    "# Quantos pacientes foram vacinados?\n",
    "num_pacientes = df['paciente_id'].nunique()\n",
    "print(f'O número de pacientes vacinados é {num_pacientes}.')\n",
    "\n",
    "# Quantos pacientes únicos tomaram a primeira dose?\n",
    "num_primeira_dose = df[df['vacina_descricao_dose'].str.contains('1ª')]['paciente_id'].nunique()\n",
    "print(f'O número de pacientes únicos que tomaram a primeira dose é {num_primeira_dose}.')\n",
    "\n",
    "# Quantos pacientes com menos de 18 anos foram vacinados?\n",
    "num_menor_18 = df[df['paciente_idade'] < 18]['paciente_id'].nunique()\n",
    "print(f'O número de pacientes com menos de 18 anos que foram vacinados é {num_menor_18}.')\n",
    "\n",
    "# Quantos estabelecimentos aplicaram vacina no Acre?\n",
    "num_estabelecimentos = df['estabelecimento_valor'].nunique()\n",
    "print(f'O número de estabelecimentos que aplicaram vacina no Acre é {num_estabelecimentos}.')\n"
   ]
  },
  {
   "cell_type": "code",
   "execution_count": null,
   "metadata": {
    "id": "V_wr--3JC8-7"
   },
   "outputs": [],
   "source": [
    "# 3)\n"
   ]
  },
  {
   "cell_type": "code",
   "execution_count": null,
   "metadata": {
    "id": "SPHgIxtcC8-7"
   },
   "outputs": [],
   "source": [
    "# 3) solução alternativa\n"
   ]
  },
  {
   "cell_type": "code",
   "execution_count": null,
   "metadata": {
    "id": "S6ab9ExEC8-7"
   },
   "outputs": [],
   "source": [
    "# 4)\n"
   ]
  },
  {
   "cell_type": "markdown",
   "metadata": {
    "id": "LH1LSYvGC8-8"
   },
   "source": [
    "## 4) Vacinação II\n",
    "Gere um *DataFrame* que contenha somente os estabelecimentos que aplicaram vcinas a menores de 18 anos. Nesse *DataFrame* devem conter somente os dados dos estabelecimentos, mais uma coluna sendo a quantidade de vacinas que o estabelecimento aplicou a menores de 18 anos.  \n",
    "  \n",
    "1. crie uma cópia do *DataFrame* original, contendo somente os registros de vacinas realizadas a menores de 18 anos.  \n",
    "2. crie uma lista das colunas desse *DataFrame* com o atributo de *DataFrame* **.columns()**  \n",
    "3. Nesse *DataFrame* faça uma contagem do campo ```vacina_categoria_nome```.\n",
    "3. a partir da lista de colunas, escolha somente aquelas que são referentes ao estabelecimento, faça uma lista com esses valores.  \n",
    "4. usando o método *.loc*, selecione somente essas variáveis  \n",
    "5. Aplique o método **.drop_duplicates** e crie uma lista com uma linha para cada estabelecimento, com os dados do estabelecimento  "
   ]
  },
  {
   "cell_type": "code",
   "execution_count": 56,
   "metadata": {
    "id": "3ojs12vUC8-8"
   },
   "outputs": [],
   "source": [
    "# 1)\n",
    "df_menor_18 = df[df['paciente_idade'] < 18].copy()\n"
   ]
  },
  {
   "cell_type": "code",
   "execution_count": 57,
   "metadata": {
    "id": "sLyevPRBC8-8"
   },
   "outputs": [],
   "source": [
    "# 2)\n",
    "colunas = df_menor_18.columns.tolist()\n",
    "\n"
   ]
  },
  {
   "cell_type": "code",
   "execution_count": 58,
   "metadata": {
    "id": "lZAW-Dp8C8-8"
   },
   "outputs": [],
   "source": [
    "# 3)\n",
    "contagem = df_menor_18['vacina_categoria_nome'].value_counts()\n",
    "\n"
   ]
  },
  {
   "cell_type": "code",
   "execution_count": 59,
   "metadata": {
    "id": "xxYsxrxAC8-8"
   },
   "outputs": [],
   "source": [
    "# 4)# 4) Escolha somente as colunas referentes ao estabelecimento\n",
    "colunas_estabelecimento = [col for col in colunas if 'estabelecimento' in col]\n"
   ]
  },
  {
   "cell_type": "code",
   "execution_count": 60,
   "metadata": {
    "id": "vaX2x_0rC8-8"
   },
   "outputs": [],
   "source": [
    "# 5)# 5) Selecione somente essas variáveis\n",
    "df_estabelecimentos = df_menor_18.loc[:, colunas_estabelecimento]\n",
    "\n"
   ]
  },
  {
   "cell_type": "code",
   "execution_count": 61,
   "metadata": {
    "id": "vaX2x_0rC8-8"
   },
   "outputs": [
    {
     "name": "stdout",
     "output_type": "stream",
     "text": [
      "        estabelecimento_valor                   estabelecimento_razaoSocial  \\\n",
      "2                     6917291            PREFEITURA MUNICIPAL DE RIO BRANCO   \n",
      "6                     2001314        PREFEITURA MUNICIPAL DE EPITACIOLANDIA   \n",
      "7                     2002132             PREFEITURA MUN DE MAL THAUMATURGO   \n",
      "12                     924490                 PREFEITURA MUNICIPAL DE FEIJO   \n",
      "13                    2002914       PREFEITURA MUNICIPAL DE CRUZEIRO DO SUL   \n",
      "...                       ...                                           ...   \n",
      "171580                5493455     PREFEITURA MUNICIPAL DE PLACIDO DE CASTRO   \n",
      "232951                 755605                            USF BARRO VERMELHO   \n",
      "356364                3590992  PREFEITURA MUNICIPAL DE MARECHAL THAUMATURGO   \n",
      "364962                7565089            PREFEITURA MUNICIPAL DE RIO BRANCO   \n",
      "378834                2003090        PREFEITURA MUNICIPAL DE EPITACIOLANDIA   \n",
      "\n",
      "        estabelecimento_municipio_codigo estabelecimento_municipio_nome  \\\n",
      "2                                 120040                     RIO BRANCO   \n",
      "6                                 120025                 EPITACIOLANDIA   \n",
      "7                                 120035           MARECHAL THAUMATURGO   \n",
      "12                                120030                          FEIJO   \n",
      "13                                120020                CRUZEIRO DO SUL   \n",
      "...                                  ...                            ...   \n",
      "171580                            120038              PLACIDO DE CASTRO   \n",
      "232951                            120040                     RIO BRANCO   \n",
      "356364                            120035           MARECHAL THAUMATURGO   \n",
      "364962                            120040                     RIO BRANCO   \n",
      "378834                            120025                 EPITACIOLANDIA   \n",
      "\n",
      "       estabelecimento_uf  Qtde Vacinas Menor 18  \n",
      "2                      AC                  17432  \n",
      "6                      AC                    686  \n",
      "7                      AC                   1493  \n",
      "12                     AC                    706  \n",
      "13                     AC                    468  \n",
      "...                   ...                    ...  \n",
      "171580                 AC                      3  \n",
      "232951                 AC                      1  \n",
      "356364                 AC                      0  \n",
      "364962                 AC                      1  \n",
      "378834                 AC                      1  \n",
      "\n",
      "[190 rows x 6 columns]\n"
     ]
    }
   ],
   "source": [
    "# 6) Remova duplicatas\n",
    "df_estabelecimentos = df_estabelecimentos.drop_duplicates()\n",
    "\n",
    "# Adicione uma coluna com a quantidade de vacinas que o estabelecimento aplicou a menores de 18 anos\n",
    "df_estabelecimentos['Qtde Vacinas Menor 18'] = df_menor_18.groupby('estabelecimento_valor')['vacina_categoria_nome'].transform('count')\n",
    "\n",
    "print(df_estabelecimentos)\n"
   ]
  },
  {
   "cell_type": "code",
   "execution_count": null,
   "metadata": {},
   "outputs": [],
   "source": []
  }
 ],
 "metadata": {
  "colab": {
   "provenance": []
  },
  "kernelspec": {
   "display_name": "Python 3 (ipykernel)",
   "language": "python",
   "name": "python3"
  },
  "language_info": {
   "codemirror_mode": {
    "name": "ipython",
    "version": 3
   },
   "file_extension": ".py",
   "mimetype": "text/x-python",
   "name": "python",
   "nbconvert_exporter": "python",
   "pygments_lexer": "ipython3",
   "version": "3.11.7"
  },
  "toc": {
   "base_numbering": 1,
   "nav_menu": {},
   "number_sections": false,
   "sideBar": true,
   "skip_h1_title": true,
   "title_cell": "Índice",
   "title_sidebar": "Conteúdo",
   "toc_cell": false,
   "toc_position": {},
   "toc_section_display": true,
   "toc_window_display": false
  },
  "varInspector": {
   "cols": {
    "lenName": 16,
    "lenType": 16,
    "lenVar": 40
   },
   "kernels_config": {
    "python": {
     "delete_cmd_postfix": "",
     "delete_cmd_prefix": "del ",
     "library": "var_list.py",
     "varRefreshCmd": "print(var_dic_list())"
    },
    "r": {
     "delete_cmd_postfix": ") ",
     "delete_cmd_prefix": "rm(",
     "library": "var_list.r",
     "varRefreshCmd": "cat(var_dic_list()) "
    }
   },
   "types_to_exclude": [
    "module",
    "function",
    "builtin_function_or_method",
    "instance",
    "_Feature"
   ],
   "window_display": false
  }
 },
 "nbformat": 4,
 "nbformat_minor": 4
}
